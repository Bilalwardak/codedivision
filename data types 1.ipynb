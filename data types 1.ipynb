{
  "nbformat": 4,
  "nbformat_minor": 0,
  "metadata": {
    "colab": {
      "provenance": [],
      "authorship_tag": "ABX9TyPYY77j+AJBsuXIWGDpsxu/",
      "include_colab_link": true
    },
    "kernelspec": {
      "name": "python3",
      "display_name": "Python 3"
    },
    "language_info": {
      "name": "python"
    }
  },
  "cells": [
    {
      "cell_type": "markdown",
      "metadata": {
        "id": "view-in-github",
        "colab_type": "text"
      },
      "source": [
        "<a href=\"https://colab.research.google.com/github/Bilalwardak/codedivision/blob/main/data%20types%201.ipynb\" target=\"_parent\"><img src=\"https://colab.research.google.com/assets/colab-badge.svg\" alt=\"Open In Colab\"/></a>"
      ]
    },
    {
      "cell_type": "code",
      "execution_count": 1,
      "metadata": {
        "colab": {
          "base_uri": "https://localhost:8080/"
        },
        "id": "03q3e6cHoowp",
        "outputId": "8c31a3fd-ccf2-4bbf-9eb8-44e273ea9e4b"
      },
      "outputs": [
        {
          "output_type": "stream",
          "name": "stdout",
          "text": [
            "Hello,world!\n"
          ]
        }
      ],
      "source": [
        "print(\"Hello,world!\")"
      ]
    },
    {
      "cell_type": "code",
      "source": [
        "print(\"Hello,Scotland\")"
      ],
      "metadata": {
        "colab": {
          "base_uri": "https://localhost:8080/"
        },
        "id": "nOs2GlqGs9C7",
        "outputId": "63b6d525-60e4-478f-c379-e4a590acc9f4"
      },
      "execution_count": 2,
      "outputs": [
        {
          "output_type": "stream",
          "name": "stdout",
          "text": [
            "Hello,Scotland\n"
          ]
        }
      ]
    },
    {
      "cell_type": "code",
      "source": [
        "3+5"
      ],
      "metadata": {
        "colab": {
          "base_uri": "https://localhost:8080/"
        },
        "id": "Jt_kOL7qtHro",
        "outputId": "fc5f58c6-d356-4a2b-e2f9-34b7e8151c48"
      },
      "execution_count": 3,
      "outputs": [
        {
          "output_type": "execute_result",
          "data": {
            "text/plain": [
              "8"
            ]
          },
          "metadata": {},
          "execution_count": 3
        }
      ]
    }
  ]
}